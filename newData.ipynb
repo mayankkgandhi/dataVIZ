{
 "cells": [
  {
   "cell_type": "code",
   "execution_count": 1,
   "metadata": {},
   "outputs": [
    {
     "data": {
      "text/html": [
       "<script type=\"text/javascript\">window.PlotlyConfig = {MathJaxConfig: 'local'};</script><script type=\"text/javascript\">if (window.MathJax) {MathJax.Hub.Config({SVG: {font: \"STIX-Web\"}});}</script><script>requirejs.config({paths: { 'plotly': ['https://cdn.plot.ly/plotly-latest.min']},});if(!window._Plotly) {require(['plotly'],function(plotly) {window._Plotly=plotly;});}</script>"
      ],
      "text/vnd.plotly.v1+html": [
       "<script type=\"text/javascript\">window.PlotlyConfig = {MathJaxConfig: 'local'};</script><script type=\"text/javascript\">if (window.MathJax) {MathJax.Hub.Config({SVG: {font: \"STIX-Web\"}});}</script><script>requirejs.config({paths: { 'plotly': ['https://cdn.plot.ly/plotly-latest.min']},});if(!window._Plotly) {require(['plotly'],function(plotly) {window._Plotly=plotly;});}</script>"
      ]
     },
     "metadata": {},
     "output_type": "display_data"
    }
   ],
   "source": [
    "import numpy as np\n",
    "import pandas as pd\n",
    "\n",
    "import matplotlib.pyplot as plt\n",
    "import seaborn as sns\n",
    "%matplotlib inline\n",
    "sns.set()\n",
    "\n",
    "### Plotly\n",
    "from plotly.offline import init_notebook_mode, iplot\n",
    "import plotly.graph_objs as go\n",
    "import plotly.figure_factory as ff\n",
    "import plotly.plotly as py\n",
    "from plotly import tools\n",
    "init_notebook_mode(connected=True)\n",
    "\n",
    "# Altair\n",
    "import altair as alt\n",
    "\n",
    "### Removes warnings that occassionally show up\n",
    "import warnings\n",
    "warnings.filterwarnings('ignore')"
   ]
  },
  {
   "cell_type": "code",
   "execution_count": 4,
   "metadata": {},
   "outputs": [
    {
     "data": {
      "text/html": [
       "<script>\n",
       "requirejs.config({\n",
       "    baseUrl: 'https://cdn.jsdelivr.net/npm/',\n",
       "    paths: {\"vega\": \"https://cdn.jsdelivr.net/npm/vega@v2.6.0?noext\", \"vega-lib\": \"https://cdn.jsdelivr.net/npm/vega-lib?noext\", \"vega-lite\": \"https://cdn.jsdelivr.net/npm/vega-lite@v2.6.0?noext\", \"vega-embed\": \"https://cdn.jsdelivr.net/npm/vega-embed@3?noext\"}\n",
       "});\n",
       "</script>"
      ],
      "text/plain": [
       "<IPython.core.display.HTML object>"
      ]
     },
     "execution_count": 4,
     "metadata": {},
     "output_type": "execute_result"
    }
   ],
   "source": [
    "import json  # need it for json.dumps\n",
    "from IPython.display import HTML\n",
    "\n",
    "# Create the correct URLs for require.js to find the Javascript libraries\n",
    "vega_url = 'https://cdn.jsdelivr.net/npm/vega@' + alt.SCHEMA_VERSION\n",
    "vega_lib_url = 'https://cdn.jsdelivr.net/npm/vega-lib'\n",
    "vega_lite_url = 'https://cdn.jsdelivr.net/npm/vega-lite@' + alt.SCHEMA_VERSION\n",
    "vega_embed_url = 'https://cdn.jsdelivr.net/npm/vega-embed@3'\n",
    "noext = \"?noext\"\n",
    "\n",
    "altair_paths = {\n",
    "    'vega': vega_url + noext,\n",
    "    'vega-lib': vega_lib_url + noext,\n",
    "    'vega-lite': vega_lite_url + noext,\n",
    "    'vega-embed': vega_embed_url + noext\n",
    "}\n",
    "\n",
    "workaround = \"\"\"\n",
    "requirejs.config({{\n",
    "    baseUrl: 'https://cdn.jsdelivr.net/npm/',\n",
    "    paths: {paths}\n",
    "}});\n",
    "\"\"\"\n",
    "\n",
    "# Define the function for rendering\n",
    "def add_autoincrement(render_func):\n",
    "    # Keep track of unique <div/> IDs\n",
    "    cache = {}\n",
    "    def wrapped(chart, id=\"vega-chart\", autoincrement=True):\n",
    "        \"\"\"Render an altair chart directly via javascript.\n",
    "        \n",
    "        This is a workaround for functioning export to HTML.\n",
    "        (It probably messes up other ways to export.) It will\n",
    "        cache and autoincrement the ID suffixed with a\n",
    "        number (e.g. vega-chart-1) so you don't have to deal\n",
    "        with that.\n",
    "        \"\"\"\n",
    "        if autoincrement:\n",
    "            if id in cache:\n",
    "                counter = 1 + cache[id]\n",
    "                cache[id] = counter\n",
    "            else:\n",
    "                cache[id] = 0\n",
    "            actual_id = id if cache[id] == 0 else id + '-' + str(cache[id])\n",
    "        else:\n",
    "            if id not in cache:\n",
    "                cache[id] = 0\n",
    "            actual_id = id\n",
    "        return render_func(chart, id=actual_id)\n",
    "    # Cache will stay defined and keep track of the unique div Ids\n",
    "    return wrapped\n",
    "\n",
    "\n",
    "@add_autoincrement\n",
    "def render_alt(chart, id=\"vega-chart\"):\n",
    "    # This below is the javascript to make the chart directly using vegaEmbed\n",
    "    chart_str = \"\"\"\n",
    "    <div id=\"{id}\"></div><script>\n",
    "    require([\"vega-embed\"], function(vegaEmbed) {{\n",
    "        const spec = {chart};     \n",
    "        vegaEmbed(\"#{id}\", spec, {{defaultStyle: true}}).catch(console.warn);\n",
    "    }});\n",
    "    </script>\n",
    "    \"\"\"\n",
    "    return HTML(\n",
    "        chart_str.format(\n",
    "            id=id,\n",
    "            chart=json.dumps(chart) if isinstance(chart, dict) else chart.to_json(indent=None)\n",
    "        )\n",
    "    )\n",
    "\n",
    "HTML(\"\".join((\n",
    "    \"<script>\",\n",
    "    workaround.format(paths=json.dumps(altair_paths)),\n",
    "    \"</script>\"\n",
    ")))"
   ]
  },
  {
   "cell_type": "code",
   "execution_count": 2,
   "metadata": {},
   "outputs": [],
   "source": [
    "data = pd.DataFrame(np.random.randn(100, 2), columns=['x', 'y'])"
   ]
  },
  {
   "cell_type": "code",
   "execution_count": 5,
   "metadata": {},
   "outputs": [
    {
     "data": {
      "text/html": [
       "\n",
       "    <div id=\"vega-chart\"></div><script>\n",
       "    require([\"vega-embed\"], function(vegaEmbed) {\n",
       "        const spec = {\"$schema\": \"https://vega.github.io/schema/vega-lite/v2.6.0.json\", \"config\": {\"view\": {\"height\": 300, \"width\": 400}}, \"data\": {\"name\": \"data-6f5b8d0bf2cb62de0357f3172778d075\"}, \"datasets\": {\"data-6f5b8d0bf2cb62de0357f3172778d075\": [{\"x\": -1.9149451364689143, \"y\": -0.0970037988830629}, {\"x\": 1.3622794669280147, \"y\": -0.3931133312553329}, {\"x\": 3.1465360235716022, \"y\": -0.3194149585557862}, {\"x\": -0.1332067587986788, \"y\": 0.3896024907766882}, {\"x\": 1.4526175382424746, \"y\": -0.32132063947423706}, {\"x\": 0.22971818751130402, \"y\": -0.9636156027282697}, {\"x\": 0.1915222193732287, \"y\": -1.3566873692081263}, {\"x\": -0.33940000446963287, \"y\": -1.524201322199693}, {\"x\": -0.9213041237241248, \"y\": 0.7166927340301877}, {\"x\": -0.6711524327716976, \"y\": 1.2569072750279957}, {\"x\": 1.218484400765502, \"y\": -1.823980994066949}, {\"x\": -0.14876045402511404, \"y\": -2.3891406440927225}, {\"x\": 1.2785634918214508, \"y\": -0.8647807432296265}, {\"x\": 1.513128403343827, \"y\": 0.16315981222979153}, {\"x\": 0.5972768031554715, \"y\": -0.6114234339414037}, {\"x\": -0.16995149939978518, \"y\": -0.40263365122395695}, {\"x\": -0.5415704883395493, \"y\": 0.10437493538548658}, {\"x\": 0.6835335715262396, \"y\": 1.3774803311132766}, {\"x\": -0.9836058692421457, \"y\": 2.048253689823683}, {\"x\": 1.8879299576963307, \"y\": -2.220986863428965}, {\"x\": 1.4952365577069002, \"y\": -0.12620638630467385}, {\"x\": -0.002775668609501067, \"y\": 0.19150675160371966}, {\"x\": 0.38935242845698453, \"y\": 1.371406908980166}, {\"x\": -0.447128485338003, \"y\": -0.18691123181990504}, {\"x\": 0.7380229127476049, \"y\": -1.898385905416553}, {\"x\": 1.8771915937424262, \"y\": 1.8741580212815707}, {\"x\": 1.2382994187957375, \"y\": -0.27267452131801856}, {\"x\": -0.08534573224757468, \"y\": -1.7126900282462747}, {\"x\": 0.23738828325380498, \"y\": -0.34166909146776475}, {\"x\": -1.674605538194735, \"y\": -0.2898010898708845}, {\"x\": 0.3239117583940558, \"y\": 1.2266321520430514}, {\"x\": 1.16006238908107, \"y\": -0.2609448866583706}, {\"x\": 2.3665490606995094, \"y\": -0.46772846058349077}, {\"x\": -1.3038784250076296, \"y\": 1.1586924731418815}, {\"x\": 0.8779263953077966, \"y\": 2.055352210371317}, {\"x\": -0.5937356314003229, \"y\": 1.051304495246953}, {\"x\": 0.5851845776860491, \"y\": 0.881314072237139}, {\"x\": 1.586319850906224, \"y\": -1.394121428982178}, {\"x\": -2.0737737222082324, \"y\": 0.4276421457953484}, {\"x\": 1.1415828761039568, \"y\": 0.2696413588602692}, {\"x\": 0.00543084114152069, \"y\": 1.5856326712700133}, {\"x\": -0.947715631873355, \"y\": -0.31955141583553975}, {\"x\": -0.517764637744166, \"y\": 0.5358069594563732}, {\"x\": -1.3822983052600015, \"y\": 0.46348578008249763}, {\"x\": 0.7209148283200174, \"y\": 0.7889919908764399}, {\"x\": -0.8770823167185076, \"y\": -1.3031554250105777}, {\"x\": -0.6623200593625009, \"y\": 1.0652207944313836}, {\"x\": 1.3472814374976287, \"y\": 0.4482172529281753}, {\"x\": -1.149824258974269, \"y\": 1.0966991822422663}, {\"x\": -0.17789191819323896, \"y\": 2.0694704749788917}, {\"x\": -0.13039609450373219, \"y\": -0.19823349828805734}, {\"x\": 1.5927571802013056, \"y\": 0.33245657912772836}, {\"x\": 0.2716284262012386, \"y\": 0.6702960836059427}, {\"x\": -1.1649347231651375, \"y\": -0.5116653152131717}, {\"x\": -0.7673209213756567, \"y\": 0.4879503075363854}, {\"x\": -1.071010186196462, \"y\": 2.614914469940242}, {\"x\": -0.5803860360519628, \"y\": 0.8902154507815537}, {\"x\": -0.5489562002803389, \"y\": 0.3410919661834134}, {\"x\": -0.66075509284324, \"y\": 1.5080419628250412}, {\"x\": -0.41884854946457684, \"y\": -1.6015112704554966}, {\"x\": 1.7509146268581735, \"y\": -0.9711119701339063}, {\"x\": 0.7408320946384683, \"y\": 1.2847834959922073}, {\"x\": 0.0626561571867903, \"y\": 0.7356884695804619}, {\"x\": 0.7450611348221129, \"y\": 2.4112786069405634}, {\"x\": -0.6819380414219787, \"y\": -2.9389624207395797}, {\"x\": 0.7663892503964824, \"y\": 0.6195847719117132}, {\"x\": -0.07800707108589522, \"y\": 1.8458406413617519}, {\"x\": -0.579782476192302, \"y\": -0.3437460786255179}, {\"x\": -1.047737215682214, \"y\": 1.4110331419158786}, {\"x\": -1.2259036348507415, \"y\": -0.19346471990252506}, {\"x\": 0.12966482016845288, \"y\": -0.6212281399542313}, {\"x\": -0.2697476227388487, \"y\": -1.5502687153324493}, {\"x\": 1.1748259040586833, \"y\": 0.22556336206409958}, {\"x\": -1.1017612013906222, \"y\": -1.1066973551199883}, {\"x\": -0.5996677562987516, \"y\": 0.9442205598840745}, {\"x\": 0.7650243212881407, \"y\": -0.5125409551649295}, {\"x\": 0.8442550592051918, \"y\": -1.5218432752589133}, {\"x\": -0.6212539548922297, \"y\": 0.11381370277423417}, {\"x\": 1.5062431509289238, \"y\": -1.4207730152249243}, {\"x\": 0.4568517259625557, \"y\": 0.038810340187037724}, {\"x\": 1.0202673574480403, \"y\": -1.806345069791846}, {\"x\": 0.7468384084128632, \"y\": -1.849254119335317}, {\"x\": 0.6434802822692052, \"y\": -0.8254026531634705}, {\"x\": -0.766840750493047, \"y\": -1.738793247605864}, {\"x\": -0.23435216613022844, \"y\": 1.263716600110021}, {\"x\": 0.7084200557711449, \"y\": 0.6737316791620315}, {\"x\": 1.9177691155696255, \"y\": -1.38456909367193}, {\"x\": -1.1894979693523844, \"y\": 1.1101179289398408}, {\"x\": -0.7581972224529342, \"y\": 1.375034839622922}, {\"x\": 1.5165240724946956, \"y\": -0.6977110111234295}, {\"x\": -0.023472926346929594, \"y\": -0.9896096396426121}, {\"x\": 1.531200696391163, \"y\": 0.3670294339413298}, {\"x\": 0.19881851327684666, \"y\": 0.15795749245834276}, {\"x\": 0.23836899870081582, \"y\": 1.6109905045453023}, {\"x\": -0.38191083252533803, \"y\": 0.7776758033209661}, {\"x\": 1.5864138180548057, \"y\": -0.11283319211735361}, {\"x\": -0.643329533857454, \"y\": 0.5426452633839176}, {\"x\": 0.9226683527939658, \"y\": -0.010414795615869726}, {\"x\": -1.3209931172594027, \"y\": 2.291193782967792}, {\"x\": 0.6784519481401449, \"y\": -0.010148878774913345}]}, \"encoding\": {\"x\": {\"field\": \"x\", \"type\": \"quantitative\"}, \"y\": {\"field\": \"y\", \"type\": \"quantitative\"}}, \"mark\": \"point\", \"selection\": {\"selector001\": {\"bind\": \"scales\", \"encodings\": [\"x\", \"y\"], \"type\": \"interval\"}}};     \n",
       "        vegaEmbed(\"#vega-chart\", spec, {defaultStyle: true}).catch(console.warn);\n",
       "    });\n",
       "    </script>\n",
       "    "
      ],
      "text/plain": [
       "<IPython.core.display.HTML object>"
      ]
     },
     "execution_count": 5,
     "metadata": {},
     "output_type": "execute_result"
    }
   ],
   "source": [
    "render_alt(alt.Chart(data).mark_point().encode(\n",
    "    x='x:Q',\n",
    "    y='y:Q'\n",
    ").interactive())"
   ]
  },
  {
   "cell_type": "code",
   "execution_count": null,
   "metadata": {},
   "outputs": [],
   "source": []
  }
 ],
 "metadata": {
  "kernelspec": {
   "display_name": "Python 3",
   "language": "python",
   "name": "python3"
  },
  "language_info": {
   "codemirror_mode": {
    "name": "ipython",
    "version": 3
   },
   "file_extension": ".py",
   "mimetype": "text/x-python",
   "name": "python",
   "nbconvert_exporter": "python",
   "pygments_lexer": "ipython3",
   "version": "3.6.5"
  }
 },
 "nbformat": 4,
 "nbformat_minor": 2
}
